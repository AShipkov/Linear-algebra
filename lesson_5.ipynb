{
 "cells": [
  {
   "cell_type": "markdown",
   "metadata": {},
   "source": [
    "## Сингулярное разложение матриц\n",
    "## Задание 1\n",
    "Найти с помощью NumPy SVD для матрицы\n",
    "$$\\begin{pmatrix}\n",
    "1 & 2 & 0\\\\ \n",
    "0 & 0 & 5\\\\ \n",
    "3 & -4 & 2\\\\ \n",
    "1 & 6 & 5\\\\ \n",
    "0 & 1 & 0\n",
    "\\end{pmatrix}.$$"
   ]
  },
  {
   "cell_type": "code",
   "execution_count": 2,
   "metadata": {},
   "outputs": [
    {
     "data": {
      "text/plain": [
       "(array([[8.82, 0.  , 0.  ],\n",
       "        [0.  , 6.14, 0.  ],\n",
       "        [0.  , 0.  , 2.53],\n",
       "        [0.  , 0.  , 0.  ],\n",
       "        [0.  , 0.  , 0.  ]]),\n",
       " array([[ 0.17,  0.16, -0.53, -0.8 , -0.16],\n",
       "        [ 0.39, -0.53,  0.61, -0.43,  0.03],\n",
       "        [-0.14, -0.82, -0.52,  0.14,  0.07],\n",
       "        [ 0.89,  0.06, -0.25,  0.38, -0.06],\n",
       "        [ 0.08,  0.11, -0.08, -0.11,  0.98]]),\n",
       " array([[ 0.07, -0.37, -0.93],\n",
       "        [ 0.72,  0.67, -0.21],\n",
       "        [ 0.69, -0.65,  0.31]]),\n",
       " array([[ 1.,  2.,  0.],\n",
       "        [ 0., -0.,  5.],\n",
       "        [ 3., -4.,  2.],\n",
       "        [ 1.,  6.,  5.],\n",
       "        [-0.,  1.,  0.]]))"
      ]
     },
     "execution_count": 2,
     "metadata": {},
     "output_type": "execute_result"
    }
   ],
   "source": [
    "import numpy as np\n",
    "np.set_printoptions(precision=2, suppress=True)\n",
    "A = np.array([[1, 2, 0], [0, 0, 5], [3, -4, 2], [1, 6, 5], [0, 1, 0]])\n",
    "U, s, W = np.linalg.svd(A)\n",
    "V = W.T\n",
    "D = np.zeros_like(A, dtype=float)\n",
    "D[np.diag_indices(min(A.shape))] = s\n",
    "D, U, V, np.dot(np.dot(U, D), V.T)"
   ]
  },
  {
   "cell_type": "markdown",
   "metadata": {},
   "source": [
    "## Задание 2\n",
    "Для матрицы из предыдущего задания найти:\\\n",
    "а) евклидову норму"
   ]
  },
  {
   "cell_type": "code",
   "execution_count": 3,
   "metadata": {},
   "outputs": [
    {
     "data": {
      "text/plain": [
       "8.824868854820442"
      ]
     },
     "execution_count": 3,
     "metadata": {},
     "output_type": "execute_result"
    }
   ],
   "source": [
    "max(s)"
   ]
  },
  {
   "cell_type": "markdown",
   "metadata": {},
   "source": [
    "$\\left \\| A \\right \\|_{E} = 8.82$\n",
    "\n",
    "б) норму Фробениуса.\n",
    "\n",
    "$\\left \\| A \\right \\|_{F}=\\sqrt{8.82^2 + 6.14 ^2 + 2.53^2} = 11.04$"
   ]
  },
  {
   "cell_type": "code",
   "execution_count": 5,
   "metadata": {},
   "outputs": [
    {
     "data": {
      "text/plain": [
       "(array([8.82, 6.14, 2.53]), 11.045361017187261)"
      ]
     },
     "execution_count": 5,
     "metadata": {},
     "output_type": "execute_result"
    }
   ],
   "source": [
    "s, np.linalg.norm(s)"
   ]
  },
  {
   "cell_type": "code",
   "execution_count": null,
   "metadata": {},
   "outputs": [],
   "source": []
  }
 ],
 "metadata": {
  "kernelspec": {
   "display_name": "Python 3",
   "language": "python",
   "name": "python3"
  },
  "language_info": {
   "codemirror_mode": {
    "name": "ipython",
    "version": 3
   },
   "file_extension": ".py",
   "mimetype": "text/x-python",
   "name": "python",
   "nbconvert_exporter": "python",
   "pygments_lexer": "ipython3",
   "version": "3.7.6"
  }
 },
 "nbformat": 4,
 "nbformat_minor": 4
}
