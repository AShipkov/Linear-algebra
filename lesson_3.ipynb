{
 "cells": [
  {
   "cell_type": "code",
   "execution_count": 1,
   "metadata": {},
   "outputs": [],
   "source": [
    "import numpy as np"
   ]
  },
  {
   "cell_type": "markdown",
   "metadata": {},
   "source": [
    "### Задание 1\n",
    "Найти собственные векторы и собственные значения для линейного оператора, заданного матрицей\n",
    "\n",
    "$$A=\\begin{pmatrix}\n",
    "-1 & -6\\\\ \n",
    "2 & 6\n",
    "\\end{pmatrix}$$"
   ]
  },
  {
   "cell_type": "markdown",
   "metadata": {},
   "source": [
    "Решение\n",
    "$$\\begin{pmatrix}\n",
    "-1 & -6\\\\ \n",
    "2 & 6\n",
    "\\end{pmatrix}\n",
    "\\begin{pmatrix}\n",
    "b_1 \\\\\n",
    "b_2\n",
    "\\end{pmatrix}=\n",
    "\\lambda\\cdot\n",
    "\\begin{pmatrix}\n",
    "b_1 \\\\\n",
    "b_2\n",
    "\\end{pmatrix}$$\n",
    "$\n",
    "\\begin{cases}\n",
    "-b_1 - 6b_2 = \\lambda b_1 \\\\\n",
    "2b_1 + 6b_2 = \\lambda b_2\n",
    "\\end{cases}\n",
    "\\implies\n",
    "\\begin{cases}\n",
    "b_1 = -\\frac{6b_2}{\\lambda + 1} \\\\\n",
    "-\\frac{12b_2}{\\lambda + 1} + 6b_2 = \\lambda b_2\n",
    "\\end{cases}\n",
    "\\implies\n",
    "-12 + 6\\lambda + 6 = \\lambda^2 + \\lambda\n",
    "\\implies\n",
    "\\lambda^2 - 5\\lambda + 6 = 0\n",
    "$\n",
    "$$D = 25 - 24 = 1$$\n",
    "$$\n",
    "\\lambda_1 = \\frac{5 + 1}{2} = 3 \\\\\n",
    "\\lambda_2 = \\frac{5 - 1}{2} = 2\n",
    "$$"
   ]
  },
  {
   "cell_type": "markdown",
   "metadata": {},
   "source": [
    "Подставим $\\lambda_1$ в исходную систему уравнений \n",
    "$$\\begin{cases}\n",
    "(-1 - 3)b_1 - 6b_2 = 0 \\\\\n",
    "2b_1 + (6 - 3)b_2 = 0 \n",
    "\\end{cases}\\implies\\begin{cases}\n",
    "b_1 = -\\frac{3}{2} b_2 \\\\\n",
    "b_1 = -\\frac{3}{2} b_2\n",
    "\\end{cases}\\implies \n",
    "\\begin{pmatrix} b_1 \\\\ b_2\n",
    "\\end{pmatrix}\n",
    "\\begin{pmatrix}\n",
    "3 \\\\\n",
    "-2\n",
    "\\end{pmatrix}$$\n",
    "\n",
    "Подставим $\\lambda_2$ в исходную систему уравнений\n",
    "$$\\begin{cases}\n",
    "-b_1 - 6b_2 = 2 b_1 \\\\\n",
    "2b_1 + 6b_2 = 2 b_2\n",
    "\\end{cases}\\implies\\begin{cases}\n",
    "b_1 = -2b_2 \\\\\n",
    "b_1 = -2b_2\n",
    "\\end{cases}\n",
    "$$"
   ]
  },
  {
   "cell_type": "code",
   "execution_count": 4,
   "metadata": {},
   "outputs": [
    {
     "name": "stdout",
     "output_type": "stream",
     "text": [
      "Матрица A:\n",
      "[[-1 -6]\n",
      " [ 2  6]]\n",
      "Собственные значения:\n",
      "[2. 3.]\n",
      "Собственные векторы:\n",
      "[[-0.89442719  0.83205029]\n",
      " [ 0.4472136  -0.5547002 ]]\n"
     ]
    }
   ],
   "source": [
    "a = np.array([[-1, -6], [2, 6]])\n",
    "w, v = np.linalg.eig(a)\n",
    "print(f'Матрица A:\\n{a}')\n",
    "print(f'Собственные значения:\\n{w}')\n",
    "print(f'Собственные векторы:\\n{v}')"
   ]
  },
  {
   "cell_type": "markdown",
   "metadata": {},
   "source": [
    "### Задание 2\n",
    "Дан оператор поворота на 180 градусов, задаваемый матрицей\n",
    "$$A=\\begin{pmatrix}\n",
    "-1 & 0\\\\ \n",
    "0 & -1\n",
    "\\end{pmatrix}$$\n",
    "Показать, что любой вектор является для него собственным."
   ]
  },
  {
   "cell_type": "markdown",
   "metadata": {},
   "source": [
    "Решение\n",
    "$$\\begin{pmatrix}\n",
    "-1 & 0\\\\ \n",
    "0 & -1\n",
    "\\end{pmatrix}\n",
    "\\begin{pmatrix} x ,\\ y\n",
    "\\end{pmatrix}$$$\n",
    "\\lambda\n",
    "\\begin{pmatrix}\n",
    "x \\\\\n",
    "y\\end{pmatrix}$$\n",
    "\\begin{cases}\n",
    "-x = \\lambda x \\\\\n",
    "-y = \\lambda y\n",
    "\\end{cases}\n",
    "\\implies\n",
    "\\lambda = -1\n",
    "$\n",
    "Любой вектор является собственным для A"
   ]
  },
  {
   "cell_type": "code",
   "execution_count": 6,
   "metadata": {},
   "outputs": [
    {
     "name": "stdout",
     "output_type": "stream",
     "text": [
      "Матрица A:\n",
      "[[-1  0]\n",
      " [ 0 -1]]\n",
      "Собственные значения:\n",
      "[-1. -1.]\n",
      "Собственные векторы:\n",
      "[[1. 0.]\n",
      " [0. 1.]]\n"
     ]
    }
   ],
   "source": [
    "a = np.array([[-1, 0], [0, -1]])\n",
    "w, v = np.linalg.eig(a)\n",
    "print(f'Матрица A:\\n{a}')\n",
    "print(f'Собственные значения:\\n{w}')\n",
    "print(f'Собственные векторы:\\n{v}')"
   ]
  },
  {
   "cell_type": "markdown",
   "metadata": {},
   "source": [
    "### Задание 3\n",
    "Пусть линейный оператор задан матрицей\n",
    "$$A=\\begin{pmatrix}\n",
    "1 & 1\\\\ \n",
    "-1 & 3\n",
    "\\end{pmatrix}$$\n",
    "Установить, является ли вектор $x=(1,1)$ собственным вектором этого линейного оператора."
   ]
  },
  {
   "cell_type": "markdown",
   "metadata": {},
   "source": [
    "Решение\n",
    "$$\\begin{pmatrix}\n",
    "1 & 1\\\\ \n",
    "-1 & 3\n",
    "\\end{pmatrix}\\begin{pmatrix} 1 ,\\ 1\n",
    "\\end{pmatrix}$$$\n",
    "\\lambda\\begin{pmatrix}\n",
    "1 \\\\\n",
    "1\n",
    "\\end{pmatrix}\n",
    "\\begin{cases}\n",
    "1 + 1 = \\lambda \\implies \\lambda = 2 \\\\\n",
    "-1 + 3 = \\lambda \\implies \\lambda = 2\n",
    "\\end{cases}\n",
    "$\n",
    "\n",
    "Вектор  𝑥=(1,1)  является собственным вектором линейного оператора, заданного матрицей  𝐴 , и его собственное значение составляет  𝜆=2."
   ]
  },
  {
   "cell_type": "markdown",
   "metadata": {},
   "source": [
    "### Задание 4\n",
    "Пусть линейный оператор задан матрицей\n",
    "$$A=\\begin{pmatrix}\n",
    "0 & 3 & 0\\\\ \n",
    "3 & 0 & 0\\\\\n",
    "0 & 0 & 3\n",
    "\\end{pmatrix}$$\n",
    "Установить, является ли вектор $x=(3, -3, -4)$ собственным вектором этого линейного оператора.\n"
   ]
  },
  {
   "cell_type": "markdown",
   "metadata": {},
   "source": [
    "Решение\n",
    "\n",
    "$\n",
    "\\begin{pmatrix}\n",
    "0 & 3 & 0\\\\ \n",
    "3 & 0 & 0\\\\\n",
    "0 & 0 & 3\n",
    "\\end{pmatrix}\n",
    "\\cdot\n",
    "\\begin{pmatrix}\n",
    "3 \\\\ \n",
    "-3 \\\\\n",
    "-4\n",
    "\\end{pmatrix}\n",
    "= \\lambda\n",
    "\\begin{pmatrix}\n",
    "3 \\\\ \n",
    "-3 \\\\\n",
    "-4\n",
    "\\end{pmatrix}\n",
    "$\n",
    "\n",
    "$\n",
    "\\begin{cases}\n",
    "-9 = 3\\lambda \\implies \\lambda = -3 \\\\\n",
    "9 = -3\\lambda \\implies \\lambda = -3 \\\\\n",
    "-12 = -4\\lambda \\implies \\lambda = 3\n",
    "\\end{cases}\n",
    "$\n",
    "\n",
    "Вектор не является собственным вектором этого линейного оператора"
   ]
  }
 ],
 "metadata": {
  "kernelspec": {
   "display_name": "Python 3",
   "language": "python",
   "name": "python3"
  },
  "language_info": {
   "codemirror_mode": {
    "name": "ipython",
    "version": 3
   },
   "file_extension": ".py",
   "mimetype": "text/x-python",
   "name": "python",
   "nbconvert_exporter": "python",
   "pygments_lexer": "ipython3",
   "version": "3.7.6"
  }
 },
 "nbformat": 4,
 "nbformat_minor": 4
}
